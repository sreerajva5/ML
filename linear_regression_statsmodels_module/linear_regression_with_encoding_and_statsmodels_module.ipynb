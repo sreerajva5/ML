{
 "cells": [
  {
   "cell_type": "markdown",
   "metadata": {},
   "source": [
    "#### Liniar Regression with Encoding and multiple independand variables & Statsmodels module"
   ]
  },
  {
   "cell_type": "code",
   "execution_count": 3,
   "metadata": {},
   "outputs": [],
   "source": [
    "import pandas as pd\n",
    "import numpy as np  # imported modles"
   ]
  },
  {
   "cell_type": "code",
   "execution_count": 4,
   "metadata": {},
   "outputs": [
    {
     "name": "stdout",
     "output_type": "stream",
     "text": [
      "(50, 5)\n"
     ]
    },
    {
     "data": {
      "text/html": [
       "<div>\n",
       "<style scoped>\n",
       "    .dataframe tbody tr th:only-of-type {\n",
       "        vertical-align: middle;\n",
       "    }\n",
       "\n",
       "    .dataframe tbody tr th {\n",
       "        vertical-align: top;\n",
       "    }\n",
       "\n",
       "    .dataframe thead th {\n",
       "        text-align: right;\n",
       "    }\n",
       "</style>\n",
       "<table border=\"1\" class=\"dataframe\">\n",
       "  <thead>\n",
       "    <tr style=\"text-align: right;\">\n",
       "      <th></th>\n",
       "      <th>R&amp;D Spend</th>\n",
       "      <th>Administration</th>\n",
       "      <th>Marketing Spend</th>\n",
       "      <th>State</th>\n",
       "      <th>Profit</th>\n",
       "    </tr>\n",
       "  </thead>\n",
       "  <tbody>\n",
       "    <tr>\n",
       "      <th>0</th>\n",
       "      <td>165349.2</td>\n",
       "      <td>136897.80</td>\n",
       "      <td>471784.10</td>\n",
       "      <td>New York</td>\n",
       "      <td>192261.83</td>\n",
       "    </tr>\n",
       "    <tr>\n",
       "      <th>1</th>\n",
       "      <td>162597.7</td>\n",
       "      <td>151377.59</td>\n",
       "      <td>443898.53</td>\n",
       "      <td>California</td>\n",
       "      <td>191792.06</td>\n",
       "    </tr>\n",
       "  </tbody>\n",
       "</table>\n",
       "</div>"
      ],
      "text/plain": [
       "   R&D Spend  Administration  Marketing Spend       State     Profit\n",
       "0   165349.2       136897.80        471784.10    New York  192261.83\n",
       "1   162597.7       151377.59        443898.53  California  191792.06"
      ]
     },
     "execution_count": 4,
     "metadata": {},
     "output_type": "execute_result"
    }
   ],
   "source": [
    "df = pd.read_csv(r'D:\\Edureka\\50_Startups.csv')\n",
    "print(df.shape)\n",
    "df.head(2)  # importing dataset"
   ]
  },
  {
   "cell_type": "code",
   "execution_count": 5,
   "metadata": {},
   "outputs": [],
   "source": [
    "from sklearn.preprocessing import LabelEncoder\n",
    "from sklearn.preprocessing import OneHotEncoder  # import modules for encoding"
   ]
  },
  {
   "cell_type": "code",
   "execution_count": 6,
   "metadata": {},
   "outputs": [
    {
     "name": "stdout",
     "output_type": "stream",
     "text": [
      "[[165349.2 136897.8 471784.1 'New York']\n",
      " [162597.7 151377.59 443898.53 'California']\n",
      " [153441.51 101145.55 407934.54 'Florida']]\n",
      "[[192261.83]\n",
      " [191792.06]\n",
      " [191050.39]]\n",
      "50 50\n"
     ]
    }
   ],
   "source": [
    "x = df.iloc[:, 0:4].values\n",
    "y = df.iloc[:, -1:].values\n",
    "print(x[:3])\n",
    "print(y[:3])\n",
    "print(len(x), len(y))  # converting dependent and independant variables into array"
   ]
  },
  {
   "cell_type": "code",
   "execution_count": 7,
   "metadata": {},
   "outputs": [],
   "source": [
    "labelencoder = LabelEncoder()\n",
    "x[:,3] = labelencoder.fit_transform(x[:,3])  # applied label encoding"
   ]
  },
  {
   "cell_type": "code",
   "execution_count": 8,
   "metadata": {},
   "outputs": [],
   "source": [
    "oht = OneHotEncoder(categorical_features=[3])\n",
    "x = oht.fit_transform(x).toarray()   # applied onehotencoding"
   ]
  },
  {
   "cell_type": "code",
   "execution_count": 9,
   "metadata": {},
   "outputs": [
    {
     "data": {
      "text/plain": [
       "array([[0.0000000e+00, 0.0000000e+00, 1.0000000e+00, 1.6534920e+05,\n",
       "        1.3689780e+05, 4.7178410e+05],\n",
       "       [1.0000000e+00, 0.0000000e+00, 0.0000000e+00, 1.6259770e+05,\n",
       "        1.5137759e+05, 4.4389853e+05]])"
      ]
     },
     "execution_count": 9,
     "metadata": {},
     "output_type": "execute_result"
    }
   ],
   "source": [
    "x[:2]"
   ]
  },
  {
   "cell_type": "code",
   "execution_count": 10,
   "metadata": {},
   "outputs": [
    {
     "data": {
      "text/html": [
       "<div>\n",
       "<style scoped>\n",
       "    .dataframe tbody tr th:only-of-type {\n",
       "        vertical-align: middle;\n",
       "    }\n",
       "\n",
       "    .dataframe tbody tr th {\n",
       "        vertical-align: top;\n",
       "    }\n",
       "\n",
       "    .dataframe thead th {\n",
       "        text-align: right;\n",
       "    }\n",
       "</style>\n",
       "<table border=\"1\" class=\"dataframe\">\n",
       "  <thead>\n",
       "    <tr style=\"text-align: right;\">\n",
       "      <th></th>\n",
       "      <th>0</th>\n",
       "      <th>1</th>\n",
       "      <th>2</th>\n",
       "      <th>3</th>\n",
       "      <th>4</th>\n",
       "      <th>5</th>\n",
       "    </tr>\n",
       "  </thead>\n",
       "  <tbody>\n",
       "    <tr>\n",
       "      <th>0</th>\n",
       "      <td>0.0</td>\n",
       "      <td>0.0</td>\n",
       "      <td>1.0</td>\n",
       "      <td>165349.20</td>\n",
       "      <td>136897.80</td>\n",
       "      <td>471784.10</td>\n",
       "    </tr>\n",
       "    <tr>\n",
       "      <th>1</th>\n",
       "      <td>1.0</td>\n",
       "      <td>0.0</td>\n",
       "      <td>0.0</td>\n",
       "      <td>162597.70</td>\n",
       "      <td>151377.59</td>\n",
       "      <td>443898.53</td>\n",
       "    </tr>\n",
       "    <tr>\n",
       "      <th>2</th>\n",
       "      <td>0.0</td>\n",
       "      <td>1.0</td>\n",
       "      <td>0.0</td>\n",
       "      <td>153441.51</td>\n",
       "      <td>101145.55</td>\n",
       "      <td>407934.54</td>\n",
       "    </tr>\n",
       "  </tbody>\n",
       "</table>\n",
       "</div>"
      ],
      "text/plain": [
       "     0    1    2          3          4          5\n",
       "0  0.0  0.0  1.0  165349.20  136897.80  471784.10\n",
       "1  1.0  0.0  0.0  162597.70  151377.59  443898.53\n",
       "2  0.0  1.0  0.0  153441.51  101145.55  407934.54"
      ]
     },
     "execution_count": 10,
     "metadata": {},
     "output_type": "execute_result"
    }
   ],
   "source": [
    "pd.DataFrame(x).head(3)  # x after applying encoding"
   ]
  },
  {
   "cell_type": "markdown",
   "metadata": {},
   "source": [
    "###### Dummy Variables:\n",
    "  If we are getting 'n' variables after onehot encoding, we need to use only (n-1) variables for prediction. This is to avoid \n",
    "  multicolinearity."
   ]
  },
  {
   "cell_type": "code",
   "execution_count": 11,
   "metadata": {},
   "outputs": [],
   "source": [
    "# removing index-0 column from x\n",
    "\n",
    "x = x[:, 1:]"
   ]
  },
  {
   "cell_type": "code",
   "execution_count": 12,
   "metadata": {},
   "outputs": [
    {
     "data": {
      "text/html": [
       "<div>\n",
       "<style scoped>\n",
       "    .dataframe tbody tr th:only-of-type {\n",
       "        vertical-align: middle;\n",
       "    }\n",
       "\n",
       "    .dataframe tbody tr th {\n",
       "        vertical-align: top;\n",
       "    }\n",
       "\n",
       "    .dataframe thead th {\n",
       "        text-align: right;\n",
       "    }\n",
       "</style>\n",
       "<table border=\"1\" class=\"dataframe\">\n",
       "  <thead>\n",
       "    <tr style=\"text-align: right;\">\n",
       "      <th></th>\n",
       "      <th>0</th>\n",
       "      <th>1</th>\n",
       "      <th>2</th>\n",
       "      <th>3</th>\n",
       "      <th>4</th>\n",
       "    </tr>\n",
       "  </thead>\n",
       "  <tbody>\n",
       "    <tr>\n",
       "      <th>0</th>\n",
       "      <td>0.0</td>\n",
       "      <td>1.0</td>\n",
       "      <td>165349.20</td>\n",
       "      <td>136897.80</td>\n",
       "      <td>471784.10</td>\n",
       "    </tr>\n",
       "    <tr>\n",
       "      <th>1</th>\n",
       "      <td>0.0</td>\n",
       "      <td>0.0</td>\n",
       "      <td>162597.70</td>\n",
       "      <td>151377.59</td>\n",
       "      <td>443898.53</td>\n",
       "    </tr>\n",
       "    <tr>\n",
       "      <th>2</th>\n",
       "      <td>1.0</td>\n",
       "      <td>0.0</td>\n",
       "      <td>153441.51</td>\n",
       "      <td>101145.55</td>\n",
       "      <td>407934.54</td>\n",
       "    </tr>\n",
       "  </tbody>\n",
       "</table>\n",
       "</div>"
      ],
      "text/plain": [
       "     0    1          2          3          4\n",
       "0  0.0  1.0  165349.20  136897.80  471784.10\n",
       "1  0.0  0.0  162597.70  151377.59  443898.53\n",
       "2  1.0  0.0  153441.51  101145.55  407934.54"
      ]
     },
     "execution_count": 12,
     "metadata": {},
     "output_type": "execute_result"
    }
   ],
   "source": [
    "pd.DataFrame(x).head(3)"
   ]
  },
  {
   "cell_type": "markdown",
   "metadata": {},
   "source": [
    "####### now we have to create prediction model with x & y"
   ]
  },
  {
   "cell_type": "code",
   "execution_count": 13,
   "metadata": {},
   "outputs": [
    {
     "name": "stdout",
     "output_type": "stream",
     "text": [
      "35 15 35 15\n"
     ]
    }
   ],
   "source": [
    "from sklearn.model_selection import train_test_split\n",
    "\n",
    "x_train, x_test, y_train, y_test = train_test_split(x,y, test_size=0.3)\n",
    "print(len(x_train), len(x_test), len(y_train), len(y_test))"
   ]
  },
  {
   "cell_type": "code",
   "execution_count": 14,
   "metadata": {},
   "outputs": [
    {
     "data": {
      "text/plain": [
       "LinearRegression(copy_X=True, fit_intercept=True, n_jobs=1, normalize=False)"
      ]
     },
     "execution_count": 14,
     "metadata": {},
     "output_type": "execute_result"
    }
   ],
   "source": [
    "from sklearn.linear_model import LinearRegression\n",
    "\n",
    "lin_reg = LinearRegression()\n",
    "lin_reg.fit(x_train, y_train)"
   ]
  },
  {
   "cell_type": "code",
   "execution_count": 15,
   "metadata": {},
   "outputs": [],
   "source": [
    "y_predict = lin_reg.predict(x_test)"
   ]
  },
  {
   "cell_type": "code",
   "execution_count": 16,
   "metadata": {},
   "outputs": [
    {
     "name": "stdout",
     "output_type": "stream",
     "text": [
      "[81005.76] [85569.24558015]\n",
      "[132602.65] [149962.82856893]\n",
      "[96778.92] [98994.65622413]\n",
      "[144259.4] [136072.24003493]\n",
      "[141585.52] [129674.50113853]\n",
      "[14681.4] [51817.06610969]\n",
      "[149759.96] [154905.03656853]\n",
      "[107404.34] [104521.81324636]\n",
      "[182901.99] [171744.31113609]\n",
      "[97483.56] [99146.61829113]\n",
      "[134307.35] [128640.01350358]\n",
      "[71498.49] [73016.04957207]\n",
      "[99937.59] [101248.33740485]\n",
      "[152211.77] [150939.2119719]\n",
      "[129917.04] [145492.35487831]\n"
     ]
    }
   ],
   "source": [
    "for i in range(len(y_test)):\n",
    "    print(y_test[i], y_predict[i])"
   ]
  },
  {
   "cell_type": "code",
   "execution_count": 17,
   "metadata": {},
   "outputs": [
    {
     "data": {
      "text/plain": [
       "0.9005221632323388"
      ]
     },
     "execution_count": 17,
     "metadata": {},
     "output_type": "execute_result"
    }
   ],
   "source": [
    "from sklearn.metrics import r2_score\n",
    "r2_score(y_test, y_predict)   # r^2 value"
   ]
  },
  {
   "cell_type": "code",
   "execution_count": 18,
   "metadata": {},
   "outputs": [
    {
     "data": {
      "text/plain": [
       "array([[-5.01635637e+02, -1.31361015e+03,  7.88981921e-01,\n",
       "        -1.48217779e-02,  2.17694543e-02]])"
      ]
     },
     "execution_count": 18,
     "metadata": {},
     "output_type": "execute_result"
    }
   ],
   "source": [
    "lin_reg.coef_   #slopes (m)"
   ]
  },
  {
   "cell_type": "code",
   "execution_count": 19,
   "metadata": {},
   "outputs": [
    {
     "data": {
      "text/plain": [
       "array([52567.58115146])"
      ]
     },
     "execution_count": 19,
     "metadata": {},
     "output_type": "execute_result"
    }
   ],
   "source": [
    "lin_reg.intercept_  # contacnt (c)"
   ]
  },
  {
   "cell_type": "markdown",
   "metadata": {},
   "source": [
    "#### Regression using statsmodel module"
   ]
  },
  {
   "cell_type": "code",
   "execution_count": 20,
   "metadata": {},
   "outputs": [
    {
     "name": "stdout",
     "output_type": "stream",
     "text": [
      "Requirement already satisfied: statsmodels in c:\\users\\sreeraj.va\\appdata\\roaming\\python\\python36\\site-packages (0.10.0rc2)\n",
      "Requirement already satisfied: scipy>=0.18 in c:\\users\\sreeraj.va\\appdata\\local\\continuum\\anaconda3\\lib\\site-packages (from statsmodels) (1.4.1)\n",
      "Requirement already satisfied: pandas>=0.19 in c:\\users\\sreeraj.va\\appdata\\local\\continuum\\anaconda3\\lib\\site-packages (from statsmodels) (0.25.2)\n",
      "Requirement already satisfied: numpy>=1.11 in c:\\users\\sreeraj.va\\appdata\\local\\continuum\\anaconda3\\lib\\site-packages (from statsmodels) (1.17.4)\n",
      "Requirement already satisfied: patsy>=0.4.0 in c:\\users\\sreeraj.va\\appdata\\local\\continuum\\anaconda3\\lib\\site-packages (from statsmodels) (0.5.0)\n",
      "Requirement already satisfied: python-dateutil>=2.6.1 in c:\\users\\sreeraj.va\\appdata\\local\\continuum\\anaconda3\\lib\\site-packages (from pandas>=0.19->statsmodels) (2.8.1)\n",
      "Requirement already satisfied: pytz>=2017.2 in c:\\users\\sreeraj.va\\appdata\\local\\continuum\\anaconda3\\lib\\site-packages (from pandas>=0.19->statsmodels) (2019.3)\n",
      "Requirement already satisfied: six in c:\\users\\sreeraj.va\\appdata\\local\\continuum\\anaconda3\\lib\\site-packages (from patsy>=0.4.0->statsmodels) (1.13.0)\n"
     ]
    }
   ],
   "source": [
    "#!pip install statsmodels"
   ]
  },
  {
   "cell_type": "code",
   "execution_count": 1,
   "metadata": {},
   "outputs": [
    {
     "name": "stdout",
     "output_type": "stream",
     "text": [
      "Collecting statsmodels==0.10.0rc2\n",
      "  Downloading https://files.pythonhosted.org/packages/0f/2e/0af86c354179f36f9db1533749ed81d7386dfc81b79e16217b4041da3c51/statsmodels-0.10.0rc2-cp36-none-win_amd64.whl (7.5MB)\n",
      "Requirement already satisfied: numpy>=1.11 in c:\\users\\sreeraj.va\\appdata\\local\\continuum\\anaconda3\\lib\\site-packages (from statsmodels==0.10.0rc2) (1.17.4)\n",
      "Requirement already satisfied: patsy>=0.4.0 in c:\\users\\sreeraj.va\\appdata\\local\\continuum\\anaconda3\\lib\\site-packages (from statsmodels==0.10.0rc2) (0.5.0)\n",
      "Requirement already satisfied: scipy>=0.18 in c:\\users\\sreeraj.va\\appdata\\local\\continuum\\anaconda3\\lib\\site-packages (from statsmodels==0.10.0rc2) (1.4.1)\n",
      "Requirement already satisfied: pandas>=0.19 in c:\\users\\sreeraj.va\\appdata\\local\\continuum\\anaconda3\\lib\\site-packages (from statsmodels==0.10.0rc2) (0.25.2)\n",
      "Requirement already satisfied: six in c:\\users\\sreeraj.va\\appdata\\local\\continuum\\anaconda3\\lib\\site-packages (from patsy>=0.4.0->statsmodels==0.10.0rc2) (1.13.0)\n",
      "Requirement already satisfied: python-dateutil>=2.6.1 in c:\\users\\sreeraj.va\\appdata\\local\\continuum\\anaconda3\\lib\\site-packages (from pandas>=0.19->statsmodels==0.10.0rc2) (2.8.1)\n",
      "Requirement already satisfied: pytz>=2017.2 in c:\\users\\sreeraj.va\\appdata\\local\\continuum\\anaconda3\\lib\\site-packages (from pandas>=0.19->statsmodels==0.10.0rc2) (2019.3)\n",
      "Installing collected packages: statsmodels\n",
      "Successfully installed statsmodels-0.10.0rc2\n"
     ]
    }
   ],
   "source": [
    "#!pip3 install statsmodels==0.10.0rc2 --pre --user"
   ]
  },
  {
   "cell_type": "code",
   "execution_count": 21,
   "metadata": {},
   "outputs": [],
   "source": [
    "import statsmodels.api as sm"
   ]
  },
  {
   "cell_type": "code",
   "execution_count": 22,
   "metadata": {},
   "outputs": [],
   "source": [
    "regressor_OLS = sm.OLS(endog=y_train, exog=x_train).fit()"
   ]
  },
  {
   "cell_type": "code",
   "execution_count": 23,
   "metadata": {},
   "outputs": [
    {
     "data": {
      "text/html": [
       "<table class=\"simpletable\">\n",
       "<caption>OLS Regression Results</caption>\n",
       "<tr>\n",
       "  <th>Dep. Variable:</th>            <td>y</td>        <th>  R-squared (uncentered):</th>      <td>   0.989</td>\n",
       "</tr>\n",
       "<tr>\n",
       "  <th>Model:</th>                   <td>OLS</td>       <th>  Adj. R-squared (uncentered):</th> <td>   0.987</td>\n",
       "</tr>\n",
       "<tr>\n",
       "  <th>Method:</th>             <td>Least Squares</td>  <th>  F-statistic:       </th>          <td>   523.7</td>\n",
       "</tr>\n",
       "<tr>\n",
       "  <th>Date:</th>             <td>Tue, 11 Feb 2020</td> <th>  Prob (F-statistic):</th>          <td>3.14e-28</td>\n",
       "</tr>\n",
       "<tr>\n",
       "  <th>Time:</th>                 <td>17:57:55</td>     <th>  Log-Likelihood:    </th>          <td> -379.81</td>\n",
       "</tr>\n",
       "<tr>\n",
       "  <th>No. Observations:</th>      <td>    35</td>      <th>  AIC:               </th>          <td>   769.6</td>\n",
       "</tr>\n",
       "<tr>\n",
       "  <th>Df Residuals:</th>          <td>    30</td>      <th>  BIC:               </th>          <td>   777.4</td>\n",
       "</tr>\n",
       "<tr>\n",
       "  <th>Df Model:</th>              <td>     5</td>      <th>                     </th>              <td> </td>   \n",
       "</tr>\n",
       "<tr>\n",
       "  <th>Covariance Type:</th>      <td>nonrobust</td>    <th>                     </th>              <td> </td>   \n",
       "</tr>\n",
       "</table>\n",
       "<table class=\"simpletable\">\n",
       "<tr>\n",
       "   <td></td>     <th>coef</th>     <th>std err</th>      <th>t</th>      <th>P>|t|</th>  <th>[0.025</th>    <th>0.975]</th>  \n",
       "</tr>\n",
       "<tr>\n",
       "  <th>x1</th> <td> 6537.5022</td> <td> 5795.104</td> <td>    1.128</td> <td> 0.268</td> <td>-5297.680</td> <td> 1.84e+04</td>\n",
       "</tr>\n",
       "<tr>\n",
       "  <th>x2</th> <td> 9022.2674</td> <td> 5270.217</td> <td>    1.712</td> <td> 0.097</td> <td>-1740.951</td> <td> 1.98e+04</td>\n",
       "</tr>\n",
       "<tr>\n",
       "  <th>x3</th> <td>    0.7245</td> <td>    0.070</td> <td>   10.321</td> <td> 0.000</td> <td>    0.581</td> <td>    0.868</td>\n",
       "</tr>\n",
       "<tr>\n",
       "  <th>x4</th> <td>    0.3135</td> <td>    0.039</td> <td>    7.992</td> <td> 0.000</td> <td>    0.233</td> <td>    0.394</td>\n",
       "</tr>\n",
       "<tr>\n",
       "  <th>x5</th> <td>    0.0642</td> <td>    0.024</td> <td>    2.667</td> <td> 0.012</td> <td>    0.015</td> <td>    0.113</td>\n",
       "</tr>\n",
       "</table>\n",
       "<table class=\"simpletable\">\n",
       "<tr>\n",
       "  <th>Omnibus:</th>       <td> 0.402</td> <th>  Durbin-Watson:     </th> <td>   1.310</td>\n",
       "</tr>\n",
       "<tr>\n",
       "  <th>Prob(Omnibus):</th> <td> 0.818</td> <th>  Jarque-Bera (JB):  </th> <td>   0.545</td>\n",
       "</tr>\n",
       "<tr>\n",
       "  <th>Skew:</th>          <td> 0.018</td> <th>  Prob(JB):          </th> <td>   0.761</td>\n",
       "</tr>\n",
       "<tr>\n",
       "  <th>Kurtosis:</th>      <td> 2.390</td> <th>  Cond. No.          </th> <td>8.40e+05</td>\n",
       "</tr>\n",
       "</table><br/><br/>Warnings:<br/>[1] Standard Errors assume that the covariance matrix of the errors is correctly specified.<br/>[2] The condition number is large, 8.4e+05. This might indicate that there are<br/>strong multicollinearity or other numerical problems."
      ],
      "text/plain": [
       "<class 'statsmodels.iolib.summary.Summary'>\n",
       "\"\"\"\n",
       "                                 OLS Regression Results                                \n",
       "=======================================================================================\n",
       "Dep. Variable:                      y   R-squared (uncentered):                   0.989\n",
       "Model:                            OLS   Adj. R-squared (uncentered):              0.987\n",
       "Method:                 Least Squares   F-statistic:                              523.7\n",
       "Date:                Tue, 11 Feb 2020   Prob (F-statistic):                    3.14e-28\n",
       "Time:                        17:57:55   Log-Likelihood:                         -379.81\n",
       "No. Observations:                  35   AIC:                                      769.6\n",
       "Df Residuals:                      30   BIC:                                      777.4\n",
       "Df Model:                           5                                                  \n",
       "Covariance Type:            nonrobust                                                  \n",
       "==============================================================================\n",
       "                 coef    std err          t      P>|t|      [0.025      0.975]\n",
       "------------------------------------------------------------------------------\n",
       "x1          6537.5022   5795.104      1.128      0.268   -5297.680    1.84e+04\n",
       "x2          9022.2674   5270.217      1.712      0.097   -1740.951    1.98e+04\n",
       "x3             0.7245      0.070     10.321      0.000       0.581       0.868\n",
       "x4             0.3135      0.039      7.992      0.000       0.233       0.394\n",
       "x5             0.0642      0.024      2.667      0.012       0.015       0.113\n",
       "==============================================================================\n",
       "Omnibus:                        0.402   Durbin-Watson:                   1.310\n",
       "Prob(Omnibus):                  0.818   Jarque-Bera (JB):                0.545\n",
       "Skew:                           0.018   Prob(JB):                        0.761\n",
       "Kurtosis:                       2.390   Cond. No.                     8.40e+05\n",
       "==============================================================================\n",
       "\n",
       "Warnings:\n",
       "[1] Standard Errors assume that the covariance matrix of the errors is correctly specified.\n",
       "[2] The condition number is large, 8.4e+05. This might indicate that there are\n",
       "strong multicollinearity or other numerical problems.\n",
       "\"\"\""
      ]
     },
     "execution_count": 23,
     "metadata": {},
     "output_type": "execute_result"
    }
   ],
   "source": [
    "regressor_OLS.summary()"
   ]
  },
  {
   "cell_type": "code",
   "execution_count": 24,
   "metadata": {},
   "outputs": [],
   "source": [
    "# in the above details intercept is not available. To get intercept we need to add a column with 1 in x_train (as coefficiant \n",
    "# of c is 1 in y = mx+c)\n",
    "\n",
    "x_train = np.append(arr=x_train, values = np.ones((35,1)).astype(int), axis=1)"
   ]
  },
  {
   "cell_type": "code",
   "execution_count": 25,
   "metadata": {},
   "outputs": [
    {
     "data": {
      "text/html": [
       "<div>\n",
       "<style scoped>\n",
       "    .dataframe tbody tr th:only-of-type {\n",
       "        vertical-align: middle;\n",
       "    }\n",
       "\n",
       "    .dataframe tbody tr th {\n",
       "        vertical-align: top;\n",
       "    }\n",
       "\n",
       "    .dataframe thead th {\n",
       "        text-align: right;\n",
       "    }\n",
       "</style>\n",
       "<table border=\"1\" class=\"dataframe\">\n",
       "  <thead>\n",
       "    <tr style=\"text-align: right;\">\n",
       "      <th></th>\n",
       "      <th>0</th>\n",
       "      <th>1</th>\n",
       "      <th>2</th>\n",
       "      <th>3</th>\n",
       "      <th>4</th>\n",
       "      <th>5</th>\n",
       "    </tr>\n",
       "  </thead>\n",
       "  <tbody>\n",
       "    <tr>\n",
       "      <th>0</th>\n",
       "      <td>1.0</td>\n",
       "      <td>0.0</td>\n",
       "      <td>1315.46</td>\n",
       "      <td>115816.21</td>\n",
       "      <td>297114.46</td>\n",
       "      <td>1.0</td>\n",
       "    </tr>\n",
       "    <tr>\n",
       "      <th>1</th>\n",
       "      <td>0.0</td>\n",
       "      <td>0.0</td>\n",
       "      <td>76253.86</td>\n",
       "      <td>113867.30</td>\n",
       "      <td>298664.47</td>\n",
       "      <td>1.0</td>\n",
       "    </tr>\n",
       "    <tr>\n",
       "      <th>2</th>\n",
       "      <td>1.0</td>\n",
       "      <td>0.0</td>\n",
       "      <td>73994.56</td>\n",
       "      <td>122782.75</td>\n",
       "      <td>303319.26</td>\n",
       "      <td>1.0</td>\n",
       "    </tr>\n",
       "  </tbody>\n",
       "</table>\n",
       "</div>"
      ],
      "text/plain": [
       "     0    1         2          3          4    5\n",
       "0  1.0  0.0   1315.46  115816.21  297114.46  1.0\n",
       "1  0.0  0.0  76253.86  113867.30  298664.47  1.0\n",
       "2  1.0  0.0  73994.56  122782.75  303319.26  1.0"
      ]
     },
     "execution_count": 25,
     "metadata": {},
     "output_type": "execute_result"
    }
   ],
   "source": [
    "pd.DataFrame(x_train).head(3)"
   ]
  },
  {
   "cell_type": "code",
   "execution_count": 26,
   "metadata": {},
   "outputs": [],
   "source": [
    "regressor_OLS = sm.OLS(endog=y_train, exog=x_train).fit()"
   ]
  },
  {
   "cell_type": "code",
   "execution_count": 27,
   "metadata": {},
   "outputs": [
    {
     "data": {
      "text/html": [
       "<table class=\"simpletable\">\n",
       "<caption>OLS Regression Results</caption>\n",
       "<tr>\n",
       "  <th>Dep. Variable:</th>            <td>y</td>        <th>  R-squared:         </th> <td>   0.969</td>\n",
       "</tr>\n",
       "<tr>\n",
       "  <th>Model:</th>                   <td>OLS</td>       <th>  Adj. R-squared:    </th> <td>   0.964</td>\n",
       "</tr>\n",
       "<tr>\n",
       "  <th>Method:</th>             <td>Least Squares</td>  <th>  F-statistic:       </th> <td>   182.8</td>\n",
       "</tr>\n",
       "<tr>\n",
       "  <th>Date:</th>             <td>Tue, 11 Feb 2020</td> <th>  Prob (F-statistic):</th> <td>5.36e-21</td>\n",
       "</tr>\n",
       "<tr>\n",
       "  <th>Time:</th>                 <td>18:06:03</td>     <th>  Log-Likelihood:    </th> <td> -359.49</td>\n",
       "</tr>\n",
       "<tr>\n",
       "  <th>No. Observations:</th>      <td>    35</td>      <th>  AIC:               </th> <td>   731.0</td>\n",
       "</tr>\n",
       "<tr>\n",
       "  <th>Df Residuals:</th>          <td>    29</td>      <th>  BIC:               </th> <td>   740.3</td>\n",
       "</tr>\n",
       "<tr>\n",
       "  <th>Df Model:</th>              <td>     5</td>      <th>                     </th>     <td> </td>   \n",
       "</tr>\n",
       "<tr>\n",
       "  <th>Covariance Type:</th>      <td>nonrobust</td>    <th>                     </th>     <td> </td>   \n",
       "</tr>\n",
       "</table>\n",
       "<table class=\"simpletable\">\n",
       "<tr>\n",
       "    <td></td>       <th>coef</th>     <th>std err</th>      <th>t</th>      <th>P>|t|</th>  <th>[0.025</th>    <th>0.975]</th>  \n",
       "</tr>\n",
       "<tr>\n",
       "  <th>x1</th>    <td> -501.6356</td> <td> 3414.349</td> <td>   -0.147</td> <td> 0.884</td> <td>-7484.763</td> <td> 6481.492</td>\n",
       "</tr>\n",
       "<tr>\n",
       "  <th>x2</th>    <td>-1313.6101</td> <td> 3267.542</td> <td>   -0.402</td> <td> 0.691</td> <td>-7996.484</td> <td> 5369.264</td>\n",
       "</tr>\n",
       "<tr>\n",
       "  <th>x3</th>    <td>    0.7890</td> <td>    0.041</td> <td>   19.356</td> <td> 0.000</td> <td>    0.706</td> <td>    0.872</td>\n",
       "</tr>\n",
       "<tr>\n",
       "  <th>x4</th>    <td>   -0.0148</td> <td>    0.047</td> <td>   -0.316</td> <td> 0.754</td> <td>   -0.111</td> <td>    0.081</td>\n",
       "</tr>\n",
       "<tr>\n",
       "  <th>x5</th>    <td>    0.0218</td> <td>    0.015</td> <td>    1.481</td> <td> 0.150</td> <td>   -0.008</td> <td>    0.052</td>\n",
       "</tr>\n",
       "<tr>\n",
       "  <th>const</th> <td> 5.257e+04</td> <td> 6591.020</td> <td>    7.976</td> <td> 0.000</td> <td> 3.91e+04</td> <td>  6.6e+04</td>\n",
       "</tr>\n",
       "</table>\n",
       "<table class=\"simpletable\">\n",
       "<tr>\n",
       "  <th>Omnibus:</th>       <td> 1.103</td> <th>  Durbin-Watson:     </th> <td>   1.844</td>\n",
       "</tr>\n",
       "<tr>\n",
       "  <th>Prob(Omnibus):</th> <td> 0.576</td> <th>  Jarque-Bera (JB):  </th> <td>   1.111</td>\n",
       "</tr>\n",
       "<tr>\n",
       "  <th>Skew:</th>          <td> 0.348</td> <th>  Prob(JB):          </th> <td>   0.574</td>\n",
       "</tr>\n",
       "<tr>\n",
       "  <th>Kurtosis:</th>      <td> 2.474</td> <th>  Cond. No.          </th> <td>1.49e+06</td>\n",
       "</tr>\n",
       "</table><br/><br/>Warnings:<br/>[1] Standard Errors assume that the covariance matrix of the errors is correctly specified.<br/>[2] The condition number is large, 1.49e+06. This might indicate that there are<br/>strong multicollinearity or other numerical problems."
      ],
      "text/plain": [
       "<class 'statsmodels.iolib.summary.Summary'>\n",
       "\"\"\"\n",
       "                            OLS Regression Results                            \n",
       "==============================================================================\n",
       "Dep. Variable:                      y   R-squared:                       0.969\n",
       "Model:                            OLS   Adj. R-squared:                  0.964\n",
       "Method:                 Least Squares   F-statistic:                     182.8\n",
       "Date:                Tue, 11 Feb 2020   Prob (F-statistic):           5.36e-21\n",
       "Time:                        18:06:03   Log-Likelihood:                -359.49\n",
       "No. Observations:                  35   AIC:                             731.0\n",
       "Df Residuals:                      29   BIC:                             740.3\n",
       "Df Model:                           5                                         \n",
       "Covariance Type:            nonrobust                                         \n",
       "==============================================================================\n",
       "                 coef    std err          t      P>|t|      [0.025      0.975]\n",
       "------------------------------------------------------------------------------\n",
       "x1          -501.6356   3414.349     -0.147      0.884   -7484.763    6481.492\n",
       "x2         -1313.6101   3267.542     -0.402      0.691   -7996.484    5369.264\n",
       "x3             0.7890      0.041     19.356      0.000       0.706       0.872\n",
       "x4            -0.0148      0.047     -0.316      0.754      -0.111       0.081\n",
       "x5             0.0218      0.015      1.481      0.150      -0.008       0.052\n",
       "const       5.257e+04   6591.020      7.976      0.000    3.91e+04     6.6e+04\n",
       "==============================================================================\n",
       "Omnibus:                        1.103   Durbin-Watson:                   1.844\n",
       "Prob(Omnibus):                  0.576   Jarque-Bera (JB):                1.111\n",
       "Skew:                           0.348   Prob(JB):                        0.574\n",
       "Kurtosis:                       2.474   Cond. No.                     1.49e+06\n",
       "==============================================================================\n",
       "\n",
       "Warnings:\n",
       "[1] Standard Errors assume that the covariance matrix of the errors is correctly specified.\n",
       "[2] The condition number is large, 1.49e+06. This might indicate that there are\n",
       "strong multicollinearity or other numerical problems.\n",
       "\"\"\""
      ]
     },
     "execution_count": 27,
     "metadata": {},
     "output_type": "execute_result"
    }
   ],
   "source": [
    "regressor_OLS.summary()\n",
    "\n",
    "#now we got one more line as contant in the details"
   ]
  },
  {
   "cell_type": "markdown",
   "metadata": {},
   "source": [
    "##### R^2 value and adjusted R^2 value"
   ]
  },
  {
   "cell_type": "markdown",
   "metadata": {},
   "source": [
    "####### To check the accuracy of a model, adjusted R^2 value is better than R^2 value.\n",
    "Reason: R^2 value may increase when we have more independant variables, even if the independant variable actually deos not effect the dependant variable.\n",
    "\n",
    "Adjusted R^2 value does not have the tendency, because of below calculation (Multiplying it with the fraction with value below 1)\n",
    "\n",
    "Adjusted R^2 value = 1 - (1-R^2)[(n-1)/(n-(k+1))]"
   ]
  },
  {
   "cell_type": "markdown",
   "metadata": {},
   "source": [
    "##### P value"
   ]
  },
  {
   "cell_type": "markdown",
   "metadata": {},
   "source": [
    "####### If P-value is near to zero, the model is very good. If P-value increasing towards one, we have to reject it.\n",
    "\n",
    "Industry standard : P-value should be less than 0.05"
   ]
  },
  {
   "cell_type": "code",
   "execution_count": 28,
   "metadata": {},
   "outputs": [],
   "source": [
    "#As per the P-value in the statsmodel summary only R & D spend (x3) affects the profit."
   ]
  }
 ],
 "metadata": {
  "kernelspec": {
   "display_name": "Python 3",
   "language": "python",
   "name": "python3"
  },
  "language_info": {
   "codemirror_mode": {
    "name": "ipython",
    "version": 3
   },
   "file_extension": ".py",
   "mimetype": "text/x-python",
   "name": "python",
   "nbconvert_exporter": "python",
   "pygments_lexer": "ipython3",
   "version": "3.6.9"
  }
 },
 "nbformat": 4,
 "nbformat_minor": 2
}
