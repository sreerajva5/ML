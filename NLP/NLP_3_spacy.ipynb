{
 "cells": [
  {
   "cell_type": "code",
   "execution_count": 2,
   "metadata": {},
   "outputs": [
    {
     "name": "stdout",
     "output_type": "stream",
     "text": [
      "Collecting spacy\n",
      "  Downloading spacy-3.2.3-cp38-cp38-win_amd64.whl (11.6 MB)\n",
      "     ---------------------------------------- 11.6/11.6 MB 6.4 MB/s eta 0:00:00\n",
      "Collecting spacy-loggers<2.0.0,>=1.0.0\n",
      "  Using cached spacy_loggers-1.0.1-py3-none-any.whl (7.0 kB)\n",
      "Requirement already satisfied: requests<3.0.0,>=2.13.0 in c:\\users\\sreer\\anaconda3\\lib\\site-packages (from spacy) (2.24.0)\n",
      "Collecting pydantic!=1.8,!=1.8.1,<1.9.0,>=1.7.4\n",
      "  Downloading pydantic-1.8.2-cp38-cp38-win_amd64.whl (2.0 MB)\n",
      "     ---------------------------------------- 2.0/2.0 MB 5.7 MB/s eta 0:00:00\n",
      "Collecting typer<0.5.0,>=0.3.0\n",
      "  Using cached typer-0.4.0-py3-none-any.whl (27 kB)\n",
      "Collecting blis<0.8.0,>=0.4.0\n",
      "  Downloading blis-0.7.7-cp38-cp38-win_amd64.whl (6.6 MB)\n",
      "     ---------------------------------------- 6.6/6.6 MB 6.6 MB/s eta 0:00:00\n",
      "Collecting spacy-legacy<3.1.0,>=3.0.8\n",
      "  Using cached spacy_legacy-3.0.9-py2.py3-none-any.whl (20 kB)\n",
      "Collecting preshed<3.1.0,>=3.0.2\n",
      "  Downloading preshed-3.0.6-cp38-cp38-win_amd64.whl (113 kB)\n",
      "     -------------------------------------- 113.0/113.0 KB 2.2 MB/s eta 0:00:00\n",
      "Requirement already satisfied: setuptools in c:\\users\\sreer\\anaconda3\\lib\\site-packages (from spacy) (60.10.0)\n",
      "Requirement already satisfied: tqdm<5.0.0,>=4.38.0 in c:\\users\\sreer\\anaconda3\\lib\\site-packages (from spacy) (4.50.2)\n",
      "Collecting thinc<8.1.0,>=8.0.12\n",
      "  Downloading thinc-8.0.15-cp38-cp38-win_amd64.whl (1.0 MB)\n",
      "     ---------------------------------------- 1.0/1.0 MB 7.3 MB/s eta 0:00:00\n",
      "Collecting langcodes<4.0.0,>=3.2.0\n",
      "  Using cached langcodes-3.3.0-py3-none-any.whl (181 kB)\n",
      "Collecting srsly<3.0.0,>=2.4.1\n",
      "  Downloading srsly-2.4.2-cp38-cp38-win_amd64.whl (452 kB)\n",
      "     -------------------------------------- 452.1/452.1 KB 5.7 MB/s eta 0:00:00\n",
      "Requirement already satisfied: jinja2 in c:\\users\\sreer\\anaconda3\\lib\\site-packages (from spacy) (2.11.2)\n",
      "Requirement already satisfied: numpy>=1.15.0 in c:\\users\\sreer\\anaconda3\\lib\\site-packages (from spacy) (1.22.3)\n",
      "Collecting pathy>=0.3.5\n",
      "  Using cached pathy-0.6.1-py3-none-any.whl (42 kB)\n",
      "Collecting murmurhash<1.1.0,>=0.28.0\n",
      "  Downloading murmurhash-1.0.6-cp38-cp38-win_amd64.whl (21 kB)\n",
      "Collecting wasabi<1.1.0,>=0.8.1\n",
      "  Using cached wasabi-0.9.0-py3-none-any.whl (25 kB)\n",
      "Collecting cymem<2.1.0,>=2.0.2\n",
      "  Downloading cymem-2.0.6-cp38-cp38-win_amd64.whl (36 kB)\n",
      "Collecting catalogue<2.1.0,>=2.0.6\n",
      "  Downloading catalogue-2.0.7-py3-none-any.whl (17 kB)\n",
      "Requirement already satisfied: packaging>=20.0 in c:\\users\\sreer\\anaconda3\\lib\\site-packages (from spacy) (20.4)\n",
      "Requirement already satisfied: six in c:\\users\\sreer\\anaconda3\\lib\\site-packages (from packaging>=20.0->spacy) (1.15.0)\n",
      "Requirement already satisfied: pyparsing>=2.0.2 in c:\\users\\sreer\\anaconda3\\lib\\site-packages (from packaging>=20.0->spacy) (2.4.7)\n",
      "Collecting smart-open<6.0.0,>=5.0.0\n",
      "  Using cached smart_open-5.2.1-py3-none-any.whl (58 kB)\n",
      "Requirement already satisfied: typing-extensions>=3.7.4.3 in c:\\users\\sreer\\anaconda3\\lib\\site-packages (from pydantic!=1.8,!=1.8.1,<1.9.0,>=1.7.4->spacy) (3.7.4.3)\n",
      "Requirement already satisfied: chardet<4,>=3.0.2 in c:\\users\\sreer\\anaconda3\\lib\\site-packages (from requests<3.0.0,>=2.13.0->spacy) (3.0.4)\n",
      "Requirement already satisfied: certifi>=2017.4.17 in c:\\users\\sreer\\anaconda3\\lib\\site-packages (from requests<3.0.0,>=2.13.0->spacy) (2020.6.20)\n",
      "Requirement already satisfied: idna<3,>=2.5 in c:\\users\\sreer\\anaconda3\\lib\\site-packages (from requests<3.0.0,>=2.13.0->spacy) (2.10)\n",
      "Requirement already satisfied: urllib3!=1.25.0,!=1.25.1,<1.26,>=1.21.1 in c:\\users\\sreer\\anaconda3\\lib\\site-packages (from requests<3.0.0,>=2.13.0->spacy) (1.25.11)\n",
      "Requirement already satisfied: click<9.0.0,>=7.1.1 in c:\\users\\sreer\\anaconda3\\lib\\site-packages (from typer<0.5.0,>=0.3.0->spacy) (7.1.2)\n",
      "Requirement already satisfied: MarkupSafe>=0.23 in c:\\users\\sreer\\anaconda3\\lib\\site-packages (from jinja2->spacy) (1.1.1)\n",
      "Installing collected packages: wasabi, murmurhash, cymem, typer, spacy-loggers, spacy-legacy, smart-open, pydantic, preshed, langcodes, catalogue, blis, srsly, pathy, thinc, spacy\n",
      "Successfully installed blis-0.7.7 catalogue-2.0.7 cymem-2.0.6 langcodes-3.3.0 murmurhash-1.0.6 pathy-0.6.1 preshed-3.0.6 pydantic-1.8.2 smart-open-5.2.1 spacy-3.2.3 spacy-legacy-3.0.9 spacy-loggers-1.0.1 srsly-2.4.2 thinc-8.0.15 typer-0.4.0 wasabi-0.9.0\n"
     ]
    }
   ],
   "source": [
    "!pip install spacy"
   ]
  },
  {
   "cell_type": "code",
   "execution_count": 2,
   "metadata": {},
   "outputs": [],
   "source": [
    "import spacy"
   ]
  },
  {
   "cell_type": "code",
   "execution_count": 3,
   "metadata": {},
   "outputs": [
    {
     "name": "stdout",
     "output_type": "stream",
     "text": [
      "Collecting https://github.com/explosion/spacy-models/releases/download/en_core_web_sm-3.0.0/en_core_web_sm-3.0.0.tar.gz\n",
      "  Downloading https://github.com/explosion/spacy-models/releases/download/en_core_web_sm-3.0.0/en_core_web_sm-3.0.0.tar.gz (13.7 MB)\n",
      "     ---------------------------------------- 13.7/13.7 MB 6.6 MB/s eta 0:00:00\n",
      "  Preparing metadata (setup.py): started\n",
      "  Preparing metadata (setup.py): finished with status 'done'\n",
      "Requirement already satisfied: spacy<3.1.0,>=3.0.0 in c:\\users\\sreer\\anaconda3\\lib\\site-packages (from en-core-web-sm==3.0.0) (3.0.8)\n",
      "Requirement already satisfied: catalogue<2.1.0,>=2.0.4 in c:\\users\\sreer\\anaconda3\\lib\\site-packages (from spacy<3.1.0,>=3.0.0->en-core-web-sm==3.0.0) (2.0.7)\n",
      "Requirement already satisfied: numpy>=1.15.0 in c:\\users\\sreer\\anaconda3\\lib\\site-packages (from spacy<3.1.0,>=3.0.0->en-core-web-sm==3.0.0) (1.22.3)\n",
      "Requirement already satisfied: blis<0.8.0,>=0.4.0 in c:\\users\\sreer\\anaconda3\\lib\\site-packages (from spacy<3.1.0,>=3.0.0->en-core-web-sm==3.0.0) (0.7.7)\n",
      "Requirement already satisfied: spacy-legacy<3.1.0,>=3.0.5 in c:\\users\\sreer\\anaconda3\\lib\\site-packages (from spacy<3.1.0,>=3.0.0->en-core-web-sm==3.0.0) (3.0.9)\n",
      "Requirement already satisfied: pathy>=0.3.5 in c:\\users\\sreer\\anaconda3\\lib\\site-packages (from spacy<3.1.0,>=3.0.0->en-core-web-sm==3.0.0) (0.6.1)\n",
      "Requirement already satisfied: jinja2 in c:\\users\\sreer\\anaconda3\\lib\\site-packages (from spacy<3.1.0,>=3.0.0->en-core-web-sm==3.0.0) (2.11.2)\n",
      "Requirement already satisfied: wasabi<1.1.0,>=0.8.1 in c:\\users\\sreer\\anaconda3\\lib\\site-packages (from spacy<3.1.0,>=3.0.0->en-core-web-sm==3.0.0) (0.9.0)\n",
      "Requirement already satisfied: tqdm<5.0.0,>=4.38.0 in c:\\users\\sreer\\anaconda3\\lib\\site-packages (from spacy<3.1.0,>=3.0.0->en-core-web-sm==3.0.0) (4.50.2)\n",
      "Requirement already satisfied: srsly<3.0.0,>=2.4.1 in c:\\users\\sreer\\anaconda3\\lib\\site-packages (from spacy<3.1.0,>=3.0.0->en-core-web-sm==3.0.0) (2.4.2)\n",
      "Requirement already satisfied: pydantic!=1.8,!=1.8.1,<1.9.0,>=1.7.4 in c:\\users\\sreer\\anaconda3\\lib\\site-packages (from spacy<3.1.0,>=3.0.0->en-core-web-sm==3.0.0) (1.8.2)\n",
      "Requirement already satisfied: cymem<2.1.0,>=2.0.2 in c:\\users\\sreer\\anaconda3\\lib\\site-packages (from spacy<3.1.0,>=3.0.0->en-core-web-sm==3.0.0) (2.0.6)\n",
      "Requirement already satisfied: requests<3.0.0,>=2.13.0 in c:\\users\\sreer\\anaconda3\\lib\\site-packages (from spacy<3.1.0,>=3.0.0->en-core-web-sm==3.0.0) (2.24.0)\n",
      "Requirement already satisfied: typer<0.4.0,>=0.3.0 in c:\\users\\sreer\\anaconda3\\lib\\site-packages (from spacy<3.1.0,>=3.0.0->en-core-web-sm==3.0.0) (0.3.2)\n",
      "Requirement already satisfied: thinc<8.1.0,>=8.0.3 in c:\\users\\sreer\\anaconda3\\lib\\site-packages (from spacy<3.1.0,>=3.0.0->en-core-web-sm==3.0.0) (8.0.15)\n",
      "Requirement already satisfied: packaging>=20.0 in c:\\users\\sreer\\anaconda3\\lib\\site-packages (from spacy<3.1.0,>=3.0.0->en-core-web-sm==3.0.0) (20.4)\n",
      "Requirement already satisfied: murmurhash<1.1.0,>=0.28.0 in c:\\users\\sreer\\anaconda3\\lib\\site-packages (from spacy<3.1.0,>=3.0.0->en-core-web-sm==3.0.0) (1.0.6)\n",
      "Requirement already satisfied: preshed<3.1.0,>=3.0.2 in c:\\users\\sreer\\anaconda3\\lib\\site-packages (from spacy<3.1.0,>=3.0.0->en-core-web-sm==3.0.0) (3.0.6)\n",
      "Requirement already satisfied: setuptools in c:\\users\\sreer\\anaconda3\\lib\\site-packages (from spacy<3.1.0,>=3.0.0->en-core-web-sm==3.0.0) (60.10.0)\n",
      "Requirement already satisfied: six in c:\\users\\sreer\\anaconda3\\lib\\site-packages (from packaging>=20.0->spacy<3.1.0,>=3.0.0->en-core-web-sm==3.0.0) (1.15.0)\n",
      "Requirement already satisfied: pyparsing>=2.0.2 in c:\\users\\sreer\\anaconda3\\lib\\site-packages (from packaging>=20.0->spacy<3.1.0,>=3.0.0->en-core-web-sm==3.0.0) (2.4.7)\n",
      "Requirement already satisfied: smart-open<6.0.0,>=5.0.0 in c:\\users\\sreer\\anaconda3\\lib\\site-packages (from pathy>=0.3.5->spacy<3.1.0,>=3.0.0->en-core-web-sm==3.0.0) (5.2.1)\n",
      "Requirement already satisfied: typing-extensions>=3.7.4.3 in c:\\users\\sreer\\anaconda3\\lib\\site-packages (from pydantic!=1.8,!=1.8.1,<1.9.0,>=1.7.4->spacy<3.1.0,>=3.0.0->en-core-web-sm==3.0.0) (3.7.4.3)\n",
      "Requirement already satisfied: chardet<4,>=3.0.2 in c:\\users\\sreer\\anaconda3\\lib\\site-packages (from requests<3.0.0,>=2.13.0->spacy<3.1.0,>=3.0.0->en-core-web-sm==3.0.0) (3.0.4)\n",
      "Requirement already satisfied: urllib3!=1.25.0,!=1.25.1,<1.26,>=1.21.1 in c:\\users\\sreer\\anaconda3\\lib\\site-packages (from requests<3.0.0,>=2.13.0->spacy<3.1.0,>=3.0.0->en-core-web-sm==3.0.0) (1.25.11)\n",
      "Requirement already satisfied: idna<3,>=2.5 in c:\\users\\sreer\\anaconda3\\lib\\site-packages (from requests<3.0.0,>=2.13.0->spacy<3.1.0,>=3.0.0->en-core-web-sm==3.0.0) (2.10)\n",
      "Requirement already satisfied: certifi>=2017.4.17 in c:\\users\\sreer\\anaconda3\\lib\\site-packages (from requests<3.0.0,>=2.13.0->spacy<3.1.0,>=3.0.0->en-core-web-sm==3.0.0) (2020.6.20)\n",
      "Requirement already satisfied: click<7.2.0,>=7.1.1 in c:\\users\\sreer\\anaconda3\\lib\\site-packages (from typer<0.4.0,>=0.3.0->spacy<3.1.0,>=3.0.0->en-core-web-sm==3.0.0) (7.1.2)\n",
      "Requirement already satisfied: MarkupSafe>=0.23 in c:\\users\\sreer\\anaconda3\\lib\\site-packages (from jinja2->spacy<3.1.0,>=3.0.0->en-core-web-sm==3.0.0) (1.1.1)\n",
      "Building wheels for collected packages: en-core-web-sm\n",
      "  Building wheel for en-core-web-sm (setup.py): started\n",
      "  Building wheel for en-core-web-sm (setup.py): finished with status 'done'\n",
      "  Created wheel for en-core-web-sm: filename=en_core_web_sm-3.0.0-py3-none-any.whl size=13704321 sha256=4c5711268d062eac76c759757264b8a90d2cbdd9cc28bef54a275e12ae9408a7\n",
      "  Stored in directory: c:\\users\\sreer\\appdata\\local\\pip\\cache\\wheels\\8b\\21\\c1\\257748af7399fdaf1b2afc39c92fb839c436f42e67b656ff7e\n",
      "Successfully built en-core-web-sm\n",
      "Installing collected packages: en-core-web-sm\n",
      "Successfully installed en-core-web-sm-3.0.0\n"
     ]
    }
   ],
   "source": [
    "! pip install --user https://github.com/explosion/spacy-models/releases/download/en_core_web_sm-3.0.0/en_core_web_sm-3.0.0.tar.gz"
   ]
  },
  {
   "cell_type": "code",
   "execution_count": 3,
   "metadata": {},
   "outputs": [],
   "source": [
    "prefered_model = spacy.load('en_core_web_sm')"
   ]
  },
  {
   "cell_type": "code",
   "execution_count": 4,
   "metadata": {},
   "outputs": [],
   "source": [
    "para = '''NASA’s upcoming SPHEREx mission will be able to scan the entire sky every six months and create a map of the cosmos unlike any before. Scheduled to launch no later than April 2025, it will probe what happened within the first second after the big bang, how galaxies form and evolve, and the prevalence of molecules critical to the formation of life, like water, locked away as ice in our galaxy. Achieving these goals will require cutting-edge technology, and NASA has this month approved final plans for all the observatory’s components.\n",
    "\n",
    "“We’re at the transition from doing things with computer models to doing things with real hardware,” said Allen Farrington, SPHEREx project manager at NASA’s Jet Propulsion Laboratory in Southern California, which manages the mission. “The design for the spacecraft, as it stands, is confirmed. We have shown that it’s doable down to the smallest details. So now we can really start building and putting things together.”'''"
   ]
  },
  {
   "cell_type": "code",
   "execution_count": 5,
   "metadata": {},
   "outputs": [
    {
     "name": "stdout",
     "output_type": "stream",
     "text": [
      "NASA’s upcoming SPHEREx mission will be able to scan the entire sky every six months and create a map of the cosmos unlike any before. Scheduled to launch no later than April 2025, it will probe what happened within the first second after the big bang, how galaxies form and evolve, and the prevalence of molecules critical to the formation of life, like water, locked away as ice in our galaxy. Achieving these goals will require cutting-edge technology, and NASA has this month approved final plans for all the observatory’s components.\n",
      "\n",
      "“We’re at the transition from doing things with computer models to doing things with real hardware,” said Allen Farrington, SPHEREx project manager at NASA’s Jet Propulsion Laboratory in Southern California, which manages the mission. “The design for the spacecraft, as it stands, is confirmed. We have shown that it’s doable down to the smallest details. So now we can really start building and putting things together.”\n"
     ]
    }
   ],
   "source": [
    "print(para)"
   ]
  },
  {
   "cell_type": "code",
   "execution_count": 6,
   "metadata": {},
   "outputs": [
    {
     "name": "stdout",
     "output_type": "stream",
     "text": [
      "NASA’s upcoming SPHEREx mission will be able to scan the entire sky every six months and create a map of the cosmos unlike any before. Scheduled to launch no later than April 2025, it will probe what happened within the first second after the big bang, how galaxies form and evolve, and the prevalence of molecules critical to the formation of life, like water, locked away as ice in our galaxy. Achieving these goals will require cutting-edge technology, and NASA has this month approved final plans for all the observatory’s components.\n",
      "\n",
      "“We’re at the transition from doing things with computer models to doing things with real hardware,” said Allen Farrington, SPHEREx project manager at NASA’s Jet Propulsion Laboratory in Southern California, which manages the mission. “The design for the spacecraft, as it stands, is confirmed. We have shown that it’s doable down to the smallest details. So now we can really start building and putting things together.”\n"
     ]
    }
   ],
   "source": [
    "para2 = prefered_model(para)  # loading the text into prefered model of spacy\n",
    "\n",
    "print(para2)"
   ]
  },
  {
   "cell_type": "code",
   "execution_count": 12,
   "metadata": {},
   "outputs": [
    {
     "name": "stdout",
     "output_type": "stream",
     "text": [
      "NASA’s upcoming SPHEREx mission will be able to scan the entire sky every six months and create a map of the cosmos unlike any before. Scheduled to launch no later than April 2025, it will probe what happened within the first second after the big bang, how galaxies form and evolve, and the prevalence of molecules critical to the formation of life, like water, locked away as ice in our galaxy. Achieving these goals will require cutting-edge technology, and NASA has this month approved final plans for all the observatory’s components.\n",
      "\n",
      "“We’re at the transition from doing things with computer models to doing things with real hardware,” said Allen Farrington, SPHEREx project manager at NASA’s Jet Propulsion Laboratory in Southern California, which manages the mission. “The design for the spacecraft, as it stands, is confirmed. We have shown that it’s doable down to the smallest details. So now we can really start building and putting things together.”\n"
     ]
    }
   ],
   "source": [
    "print(para2.text)"
   ]
  },
  {
   "cell_type": "code",
   "execution_count": 18,
   "metadata": {},
   "outputs": [
    {
     "name": "stdout",
     "output_type": "stream",
     "text": [
      "NASA, ’s, upcoming, SPHEREx, mission, will, be, able, to, scan, the, entire, sky, every, six, months, and, create, a, map, of, the, cosmos, unlike, any, before, ., Scheduled, to, launch, no, later, than, April, 2025, ,, it, will, probe, what, happened, within, the, first, second, after, the, big, bang, ,, how, galaxies, form, and, evolve, ,, and, the, prevalence, of, molecules, critical, to, the, formation, of, life, ,, like, water, ,, locked, away, as, ice, in, our, galaxy, ., Achieving, these, goals, will, require, cutting, -, edge, technology, ,, and, NASA, has, this, month, approved, final, plans, for, all, the, observatory, ’s, components, ., \n",
      "\n",
      ", “, We, ’re, at, the, transition, from, doing, things, with, computer, models, to, doing, things, with, real, hardware, ,, ”, said, Allen, Farrington, ,, SPHEREx, project, manager, at, NASA, ’s, Jet, Propulsion, Laboratory, in, Southern, California, ,, which, manages, the, mission, ., “, The, design, for, the, spacecraft, ,, as, it, stands, ,, is, confirmed, ., We, have, shown, that, it, ’s, doable, down, to, the, smallest, details, ., So, now, we, can, really, start, building, and, putting, things, together, ., ”, 188\n"
     ]
    }
   ],
   "source": [
    "count = 1\n",
    "for i in para2:\n",
    "    print(i, end=', ')   # para2 is already tokenized\n",
    "    count += 1\n",
    "print(count)"
   ]
  },
  {
   "cell_type": "code",
   "execution_count": 8,
   "metadata": {},
   "outputs": [
    {
     "name": "stdout",
     "output_type": "stream",
     "text": [
      "326\n",
      "{'must', 'neither', 're', 'say', 'although', 'perhaps', \"'ve\", 'anywhere', 'as', '’ll', 'whether', 'does', 'now', 'the', 'fifteen', 'others', 'enough', 'hereupon', 'be', 'who', 'myself', 'then', 'somewhere', 'which', 'sometimes', 'because', 'being', 'already', '‘re', 'might', 'get', \"n't\", 'elsewhere', 'someone', 'what', 'up', 'few', 'noone', 'twenty', 'out', 'may', 'again', 'since', 'ever', 'please', 'call', 'mine', 'make', 'amount', 'eight', 'whose', 'were', 'indeed', '‘ve', 'whence', '’re', 'hereby', 'yours', 'every', 'wherever', 'seemed', 'meanwhile', 'down', 'has', 'at', 'side', 'to', 'hereafter', 'so', 'am', 'on', 'herein', 'had', 'latterly', 'how', 'first', 'quite', 'nowhere', 'yet', '’m', 'often', 'well', 'ca', 'formerly', 'beforehand', 'nine', 'whatever', 'mostly', 'thereby', 'just', 'onto', 'could', 'such', 'before', 'whole', 'along', 'between', 'nor', 'front', 'move', 'him', 'much', 'and', 'should', 'any', 'while', 'seem', 'why', 'not', 'alone', 'most', 'three', 'less', 'is', 'sixty', 'about', 'over', 'full', 'doing', 'give', 'some', 'yourself', 'ourselves', 'wherein', 'six', 'still', '‘s', 'ten', 'however', \"'s\", 'each', 'other', 'always', 'name', 'nevertheless', 'once', 'his', 'itself', 'rather', 'its', 'therein', 'also', 'been', 'have', 'anything', 'all', 'keep', 'go', 'a', 'n’t', 'everywhere', 'further', 'me', 'became', 'beyond', 'done', 'would', 'until', \"'m\", 'without', 'very', 'are', 'become', 'our', 'beside', 'really', 'you', 'or', 'more', 'that', 'either', 'i', 'himself', 'where', '‘d', 'least', 'becomes', 'this', 'above', \"'d\", 'cannot', 'if', 'was', '‘m', 'used', 'herself', 'put', 'part', 'of', 'it', 'using', 'but', 'own', 'many', 'former', 'no', 'therefore', 'under', 'twelve', 'fifty', 'whereby', 'nothing', 'bottom', 'see', '’d', 'thence', 'thru', 'made', \"'ll\", 'whoever', 'per', 'except', 'something', 'otherwise', 'seems', 'seeming', 'your', 'sometime', 'both', 'several', 'thereafter', 'throughout', 'somehow', 'even', 'around', 'serious', 'namely', 'n‘t', 'by', 'hence', 'we', 'in', '’ve', 'eleven', 'for', 'none', 'towards', 'into', 'after', 'only', 'one', 'below', 'take', 'their', 'anyone', 'hundred', 'anyway', 'empty', 'through', 'whither', 'whereafter', 'everyone', 'show', 'nobody', 'when', '’s', 'top', 'four', 'they', 'than', 'amongst', 'upon', 'next', 'whereas', 'these', 'her', 'besides', 'themselves', 'there', 'them', 'another', 'during', 'various', 'thus', 'together', \"'re\", 'two', 'us', 'thereupon', 'via', 'did', 'do', 'five', 'ours', 'hers', 'latter', 'with', 'same', 'against', 'regarding', 'yourselves', 'behind', 'toward', 'though', 'among', 'whenever', 'my', 'whereupon', 'unless', 'he', 'whom', 'can', 'from', 'moreover', 'everything', 'too', 'due', 'never', 'within', 'anyhow', 'else', 'an', 'here', 'becoming', 'will', 'off', 'afterwards', 'forty', 'last', '‘ll', 'she', 'back', 'those', 'across', 'third', 'almost'}\n"
     ]
    }
   ],
   "source": [
    "stop_words = prefered_model.Defaults.stop_words\n",
    "\n",
    "print(len(stop_words))\n",
    "\n",
    "print(stop_words)"
   ]
  },
  {
   "cell_type": "code",
   "execution_count": 20,
   "metadata": {},
   "outputs": [
    {
     "name": "stdout",
     "output_type": "stream",
     "text": [
      "['NASA', 'upcoming', 'SPHEREx', 'mission', 'able', 'scan', 'entire', 'sky', 'months', 'create', 'map', 'cosmos', 'unlike', '.', 'Scheduled', 'launch', 'later', 'April', '2025', ',', 'probe', 'happened', 'second', 'big', 'bang', ',', 'galaxies', 'form', 'evolve', ',', 'prevalence', 'molecules', 'critical', 'formation', 'life', ',', 'like', 'water', ',', 'locked', 'away', 'ice', 'galaxy', '.', 'Achieving', 'goals', 'require', 'cutting', '-', 'edge', 'technology', ',', 'NASA', 'month', 'approved', 'final', 'plans', 'observatory', 'components', '.', '\\n\\n', '“', 'We', 'transition', 'things', 'computer', 'models', 'things', 'real', 'hardware', ',', '”', 'said', 'Allen', 'Farrington', ',', 'SPHEREx', 'project', 'manager', 'NASA', 'Jet', 'Propulsion', 'Laboratory', 'Southern', 'California', ',', 'manages', 'mission', '.', '“', 'The', 'design', 'spacecraft', ',', 'stands', ',', 'confirmed', '.', 'We', 'shown', 'doable', 'smallest', 'details', '.', 'So', 'start', 'building', 'putting', 'things', '.', '”']\n"
     ]
    }
   ],
   "source": [
    "# removing stopwords\n",
    "\n",
    "para2_2 = [str(i) for i in para2 if str(i) not in stop_words]\n",
    "\n",
    "print(para2_2)"
   ]
  },
  {
   "cell_type": "code",
   "execution_count": 21,
   "metadata": {},
   "outputs": [
    {
     "data": {
      "text/plain": [
       "111"
      ]
     },
     "execution_count": 21,
     "metadata": {},
     "output_type": "execute_result"
    }
   ],
   "source": [
    "len(para2_2)"
   ]
  },
  {
   "cell_type": "code",
   "execution_count": 25,
   "metadata": {},
   "outputs": [],
   "source": [
    "import pandas as pd\n",
    "\n",
    "df = pd.DataFrame()"
   ]
  },
  {
   "cell_type": "code",
   "execution_count": 26,
   "metadata": {},
   "outputs": [],
   "source": [
    "for i,j in enumerate(para2):\n",
    "    df.loc[i,'token'] = j.text\n",
    "    df.loc[i,'stop_word'] = j.is_stop\n",
    "    df.loc[i,'punctuation'] = j.is_punct\n",
    "    df.loc[i,'parts_of_speech'] = j.pos_\n",
    "    df.loc[i,'lemmatization'] = j.lemma_\n",
    "    df.loc[i,'currency'] = j.is_currency\n",
    "    df.loc[i,'tag'] = j.tag_"
   ]
  },
  {
   "cell_type": "code",
   "execution_count": 27,
   "metadata": {},
   "outputs": [
    {
     "data": {
      "text/html": [
       "<div>\n",
       "<style scoped>\n",
       "    .dataframe tbody tr th:only-of-type {\n",
       "        vertical-align: middle;\n",
       "    }\n",
       "\n",
       "    .dataframe tbody tr th {\n",
       "        vertical-align: top;\n",
       "    }\n",
       "\n",
       "    .dataframe thead th {\n",
       "        text-align: right;\n",
       "    }\n",
       "</style>\n",
       "<table border=\"1\" class=\"dataframe\">\n",
       "  <thead>\n",
       "    <tr style=\"text-align: right;\">\n",
       "      <th></th>\n",
       "      <th>token</th>\n",
       "      <th>stop_word</th>\n",
       "      <th>punctuation</th>\n",
       "      <th>parts_of_speech</th>\n",
       "      <th>lemmatization</th>\n",
       "      <th>currency</th>\n",
       "      <th>tag</th>\n",
       "    </tr>\n",
       "  </thead>\n",
       "  <tbody>\n",
       "    <tr>\n",
       "      <th>0</th>\n",
       "      <td>NASA</td>\n",
       "      <td>False</td>\n",
       "      <td>False</td>\n",
       "      <td>PROPN</td>\n",
       "      <td>NASA</td>\n",
       "      <td>False</td>\n",
       "      <td>NNP</td>\n",
       "    </tr>\n",
       "    <tr>\n",
       "      <th>1</th>\n",
       "      <td>’s</td>\n",
       "      <td>True</td>\n",
       "      <td>False</td>\n",
       "      <td>PART</td>\n",
       "      <td>’s</td>\n",
       "      <td>False</td>\n",
       "      <td>POS</td>\n",
       "    </tr>\n",
       "    <tr>\n",
       "      <th>2</th>\n",
       "      <td>upcoming</td>\n",
       "      <td>False</td>\n",
       "      <td>False</td>\n",
       "      <td>ADJ</td>\n",
       "      <td>upcoming</td>\n",
       "      <td>False</td>\n",
       "      <td>JJ</td>\n",
       "    </tr>\n",
       "    <tr>\n",
       "      <th>3</th>\n",
       "      <td>SPHEREx</td>\n",
       "      <td>False</td>\n",
       "      <td>False</td>\n",
       "      <td>NOUN</td>\n",
       "      <td>SPHEREx</td>\n",
       "      <td>False</td>\n",
       "      <td>NNS</td>\n",
       "    </tr>\n",
       "    <tr>\n",
       "      <th>4</th>\n",
       "      <td>mission</td>\n",
       "      <td>False</td>\n",
       "      <td>False</td>\n",
       "      <td>NOUN</td>\n",
       "      <td>mission</td>\n",
       "      <td>False</td>\n",
       "      <td>NN</td>\n",
       "    </tr>\n",
       "    <tr>\n",
       "      <th>...</th>\n",
       "      <td>...</td>\n",
       "      <td>...</td>\n",
       "      <td>...</td>\n",
       "      <td>...</td>\n",
       "      <td>...</td>\n",
       "      <td>...</td>\n",
       "      <td>...</td>\n",
       "    </tr>\n",
       "    <tr>\n",
       "      <th>182</th>\n",
       "      <td>putting</td>\n",
       "      <td>False</td>\n",
       "      <td>False</td>\n",
       "      <td>VERB</td>\n",
       "      <td>put</td>\n",
       "      <td>False</td>\n",
       "      <td>VBG</td>\n",
       "    </tr>\n",
       "    <tr>\n",
       "      <th>183</th>\n",
       "      <td>things</td>\n",
       "      <td>False</td>\n",
       "      <td>False</td>\n",
       "      <td>NOUN</td>\n",
       "      <td>thing</td>\n",
       "      <td>False</td>\n",
       "      <td>NNS</td>\n",
       "    </tr>\n",
       "    <tr>\n",
       "      <th>184</th>\n",
       "      <td>together</td>\n",
       "      <td>True</td>\n",
       "      <td>False</td>\n",
       "      <td>ADV</td>\n",
       "      <td>together</td>\n",
       "      <td>False</td>\n",
       "      <td>RB</td>\n",
       "    </tr>\n",
       "    <tr>\n",
       "      <th>185</th>\n",
       "      <td>.</td>\n",
       "      <td>False</td>\n",
       "      <td>True</td>\n",
       "      <td>PUNCT</td>\n",
       "      <td>.</td>\n",
       "      <td>False</td>\n",
       "      <td>.</td>\n",
       "    </tr>\n",
       "    <tr>\n",
       "      <th>186</th>\n",
       "      <td>”</td>\n",
       "      <td>False</td>\n",
       "      <td>True</td>\n",
       "      <td>PUNCT</td>\n",
       "      <td>\"</td>\n",
       "      <td>False</td>\n",
       "      <td>''</td>\n",
       "    </tr>\n",
       "  </tbody>\n",
       "</table>\n",
       "<p>187 rows × 7 columns</p>\n",
       "</div>"
      ],
      "text/plain": [
       "        token stop_word punctuation parts_of_speech lemmatization currency  \\\n",
       "0        NASA     False       False           PROPN          NASA    False   \n",
       "1          ’s      True       False            PART            ’s    False   \n",
       "2    upcoming     False       False             ADJ      upcoming    False   \n",
       "3     SPHEREx     False       False            NOUN       SPHEREx    False   \n",
       "4     mission     False       False            NOUN       mission    False   \n",
       "..        ...       ...         ...             ...           ...      ...   \n",
       "182   putting     False       False            VERB           put    False   \n",
       "183    things     False       False            NOUN         thing    False   \n",
       "184  together      True       False             ADV      together    False   \n",
       "185         .     False        True           PUNCT             .    False   \n",
       "186         ”     False        True           PUNCT             \"    False   \n",
       "\n",
       "     tag  \n",
       "0    NNP  \n",
       "1    POS  \n",
       "2     JJ  \n",
       "3    NNS  \n",
       "4     NN  \n",
       "..   ...  \n",
       "182  VBG  \n",
       "183  NNS  \n",
       "184   RB  \n",
       "185    .  \n",
       "186   ''  \n",
       "\n",
       "[187 rows x 7 columns]"
      ]
     },
     "execution_count": 27,
     "metadata": {},
     "output_type": "execute_result"
    }
   ],
   "source": [
    "df"
   ]
  },
  {
   "cell_type": "code",
   "execution_count": 29,
   "metadata": {},
   "outputs": [],
   "source": [
    "# NER (Named entity recognation)\n",
    "\n",
    "from spacy import displacy"
   ]
  },
  {
   "cell_type": "code",
   "execution_count": 30,
   "metadata": {},
   "outputs": [
    {
     "data": {
      "text/html": [
       "<span class=\"tex2jax_ignore\"><div class=\"entities\" style=\"line-height: 2.5; direction: ltr\">\n",
       "<mark class=\"entity\" style=\"background: #7aecec; padding: 0.45em 0.6em; margin: 0 0.25em; line-height: 1; border-radius: 0.35em;\">\n",
       "    NASA\n",
       "    <span style=\"font-size: 0.8em; font-weight: bold; line-height: 1; border-radius: 0.35em; vertical-align: middle; margin-left: 0.5rem\">ORG</span>\n",
       "</mark>\n",
       "’s upcoming SPHEREx mission will be able to scan the entire sky \n",
       "<mark class=\"entity\" style=\"background: #bfe1d9; padding: 0.45em 0.6em; margin: 0 0.25em; line-height: 1; border-radius: 0.35em;\">\n",
       "    every six months\n",
       "    <span style=\"font-size: 0.8em; font-weight: bold; line-height: 1; border-radius: 0.35em; vertical-align: middle; margin-left: 0.5rem\">DATE</span>\n",
       "</mark>\n",
       " and create a map of the cosmos unlike any before. Scheduled to launch \n",
       "<mark class=\"entity\" style=\"background: #bfe1d9; padding: 0.45em 0.6em; margin: 0 0.25em; line-height: 1; border-radius: 0.35em;\">\n",
       "    no later than April 2025\n",
       "    <span style=\"font-size: 0.8em; font-weight: bold; line-height: 1; border-radius: 0.35em; vertical-align: middle; margin-left: 0.5rem\">DATE</span>\n",
       "</mark>\n",
       ", it will probe what happened within the \n",
       "<mark class=\"entity\" style=\"background: #e4e7d2; padding: 0.45em 0.6em; margin: 0 0.25em; line-height: 1; border-radius: 0.35em;\">\n",
       "    first\n",
       "    <span style=\"font-size: 0.8em; font-weight: bold; line-height: 1; border-radius: 0.35em; vertical-align: middle; margin-left: 0.5rem\">ORDINAL</span>\n",
       "</mark>\n",
       " \n",
       "<mark class=\"entity\" style=\"background: #e4e7d2; padding: 0.45em 0.6em; margin: 0 0.25em; line-height: 1; border-radius: 0.35em;\">\n",
       "    second\n",
       "    <span style=\"font-size: 0.8em; font-weight: bold; line-height: 1; border-radius: 0.35em; vertical-align: middle; margin-left: 0.5rem\">ORDINAL</span>\n",
       "</mark>\n",
       " after the big bang, how galaxies form and evolve, and the prevalence of molecules critical to the formation of life, like water, locked away as ice in our galaxy. Achieving these goals will require cutting-edge technology, and \n",
       "<mark class=\"entity\" style=\"background: #7aecec; padding: 0.45em 0.6em; margin: 0 0.25em; line-height: 1; border-radius: 0.35em;\">\n",
       "    NASA\n",
       "    <span style=\"font-size: 0.8em; font-weight: bold; line-height: 1; border-radius: 0.35em; vertical-align: middle; margin-left: 0.5rem\">ORG</span>\n",
       "</mark>\n",
       " has \n",
       "<mark class=\"entity\" style=\"background: #bfe1d9; padding: 0.45em 0.6em; margin: 0 0.25em; line-height: 1; border-radius: 0.35em;\">\n",
       "    this month\n",
       "    <span style=\"font-size: 0.8em; font-weight: bold; line-height: 1; border-radius: 0.35em; vertical-align: middle; margin-left: 0.5rem\">DATE</span>\n",
       "</mark>\n",
       " approved final plans for all the observatory’s components.</br></br>“We’re at the transition from doing things with computer models to doing things with real hardware,” said \n",
       "<mark class=\"entity\" style=\"background: #aa9cfc; padding: 0.45em 0.6em; margin: 0 0.25em; line-height: 1; border-radius: 0.35em;\">\n",
       "    Allen Farrington\n",
       "    <span style=\"font-size: 0.8em; font-weight: bold; line-height: 1; border-radius: 0.35em; vertical-align: middle; margin-left: 0.5rem\">PERSON</span>\n",
       "</mark>\n",
       ", \n",
       "<mark class=\"entity\" style=\"background: #7aecec; padding: 0.45em 0.6em; margin: 0 0.25em; line-height: 1; border-radius: 0.35em;\">\n",
       "    SPHEREx\n",
       "    <span style=\"font-size: 0.8em; font-weight: bold; line-height: 1; border-radius: 0.35em; vertical-align: middle; margin-left: 0.5rem\">ORG</span>\n",
       "</mark>\n",
       " project manager at \n",
       "<mark class=\"entity\" style=\"background: #7aecec; padding: 0.45em 0.6em; margin: 0 0.25em; line-height: 1; border-radius: 0.35em;\">\n",
       "    NASA\n",
       "    <span style=\"font-size: 0.8em; font-weight: bold; line-height: 1; border-radius: 0.35em; vertical-align: middle; margin-left: 0.5rem\">ORG</span>\n",
       "</mark>\n",
       "’s \n",
       "<mark class=\"entity\" style=\"background: #7aecec; padding: 0.45em 0.6em; margin: 0 0.25em; line-height: 1; border-radius: 0.35em;\">\n",
       "    Jet Propulsion Laboratory\n",
       "    <span style=\"font-size: 0.8em; font-weight: bold; line-height: 1; border-radius: 0.35em; vertical-align: middle; margin-left: 0.5rem\">ORG</span>\n",
       "</mark>\n",
       " in \n",
       "<mark class=\"entity\" style=\"background: #ff9561; padding: 0.45em 0.6em; margin: 0 0.25em; line-height: 1; border-radius: 0.35em;\">\n",
       "    Southern California\n",
       "    <span style=\"font-size: 0.8em; font-weight: bold; line-height: 1; border-radius: 0.35em; vertical-align: middle; margin-left: 0.5rem\">LOC</span>\n",
       "</mark>\n",
       ", which manages the mission. “The design for the spacecraft, as it stands, is confirmed. We have shown that it’s doable down to the smallest details. So now we can really start building and putting things together.”</div></span>"
      ],
      "text/plain": [
       "<IPython.core.display.HTML object>"
      ]
     },
     "metadata": {},
     "output_type": "display_data"
    }
   ],
   "source": [
    "displacy.render(para2, style='ent', jupyter=True)"
   ]
  },
  {
   "cell_type": "code",
   "execution_count": 43,
   "metadata": {},
   "outputs": [
    {
     "name": "stdout",
     "output_type": "stream",
     "text": [
      "(NASA, every six months, no later than April 2025, first, second, NASA, this month, Allen Farrington, SPHEREx, NASA, Jet Propulsion Laboratory, Southern California)\n",
      "NASA  :  ORG\n",
      "every six months  :  DATE\n",
      "no later than April 2025  :  DATE\n",
      "first  :  ORDINAL\n",
      "second  :  ORDINAL\n",
      "NASA  :  ORG\n",
      "this month  :  DATE\n",
      "Allen Farrington  :  PERSON\n",
      "SPHEREx  :  ORG\n",
      "NASA  :  ORG\n",
      "Jet Propulsion Laboratory  :  ORG\n",
      "Southern California  :  LOC\n"
     ]
    }
   ],
   "source": [
    "# NER (Named entity recognation)\n",
    "\n",
    "print(para2.ents)\n",
    "\n",
    "for i in para2.ents:\n",
    "    print(i, ' : ', i.label_)"
   ]
  },
  {
   "cell_type": "code",
   "execution_count": 44,
   "metadata": {},
   "outputs": [
    {
     "name": "stdout",
     "output_type": "stream",
     "text": [
      "org :  5\n",
      "date :  3\n"
     ]
    }
   ],
   "source": [
    "# count of NERs\n",
    "\n",
    "org, date = 0, 0\n",
    "\n",
    "for i in para2.ents:\n",
    "    if i.label_ == 'ORG':\n",
    "        org += 1\n",
    "    elif i.label_ == 'DATE':\n",
    "        date += 1\n",
    "print('org : ', org)\n",
    "print('date : ', date)"
   ]
  },
  {
   "cell_type": "code",
   "execution_count": null,
   "metadata": {},
   "outputs": [],
   "source": []
  }
 ],
 "metadata": {
  "kernelspec": {
   "display_name": "Python 3",
   "language": "python",
   "name": "python3"
  },
  "language_info": {
   "codemirror_mode": {
    "name": "ipython",
    "version": 3
   },
   "file_extension": ".py",
   "mimetype": "text/x-python",
   "name": "python",
   "nbconvert_exporter": "python",
   "pygments_lexer": "ipython3",
   "version": "3.8.5"
  }
 },
 "nbformat": 4,
 "nbformat_minor": 4
}
