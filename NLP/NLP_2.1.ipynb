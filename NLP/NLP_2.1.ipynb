{
 "cells": [
  {
   "cell_type": "code",
   "execution_count": null,
   "metadata": {},
   "outputs": [],
   "source": [
    "# spacy is faster than NLTK"
   ]
  },
  {
   "cell_type": "code",
   "execution_count": 2,
   "metadata": {},
   "outputs": [],
   "source": [
    "import spacy"
   ]
  },
  {
   "cell_type": "code",
   "execution_count": 4,
   "metadata": {},
   "outputs": [],
   "source": [
    "nlp = spacy.load('en_core_web_sm')"
   ]
  },
  {
   "cell_type": "code",
   "execution_count": 7,
   "metadata": {},
   "outputs": [],
   "source": [
    "doc = nlp(u'This is just a random string. With some $1234 U.S characters.')"
   ]
  },
  {
   "cell_type": "code",
   "execution_count": 8,
   "metadata": {},
   "outputs": [
    {
     "data": {
      "text/plain": [
       "This is just a random string. With some $1234 U.S characters."
      ]
     },
     "execution_count": 8,
     "metadata": {},
     "output_type": "execute_result"
    }
   ],
   "source": [
    "doc"
   ]
  },
  {
   "cell_type": "code",
   "execution_count": 9,
   "metadata": {},
   "outputs": [
    {
     "name": "stdout",
     "output_type": "stream",
     "text": [
      "This\n",
      "is\n",
      "just\n",
      "a\n",
      "random\n",
      "string\n",
      ".\n",
      "With\n",
      "some\n",
      "$\n",
      "1234\n",
      "U.S\n",
      "characters\n",
      ".\n"
     ]
    }
   ],
   "source": [
    "# tokens in the doc\n",
    "\n",
    "for i in doc:\n",
    "    print(i.text)"
   ]
  },
  {
   "cell_type": "code",
   "execution_count": 10,
   "metadata": {},
   "outputs": [
    {
     "name": "stdout",
     "output_type": "stream",
     "text": [
      "This DET\n",
      "is AUX\n",
      "just ADV\n",
      "a DET\n",
      "random ADJ\n",
      "string NOUN\n",
      ". PUNCT\n",
      "With ADP\n",
      "some DET\n",
      "$ SYM\n",
      "1234 NUM\n",
      "U.S PROPN\n",
      "characters NOUN\n",
      ". PUNCT\n"
     ]
    }
   ],
   "source": [
    "# token and parts of speech\n",
    "\n",
    "for i in doc:\n",
    "    print(i.text, i.pos_)"
   ]
  },
  {
   "cell_type": "code",
   "execution_count": 11,
   "metadata": {},
   "outputs": [
    {
     "name": "stdout",
     "output_type": "stream",
     "text": [
      "This DET nsubj\n",
      "is AUX ROOT\n",
      "just ADV advmod\n",
      "a DET det\n",
      "random ADJ amod\n",
      "string NOUN attr\n",
      ". PUNCT punct\n",
      "With ADP ROOT\n",
      "some DET det\n",
      "$ SYM quantmod\n",
      "1234 NUM nummod\n",
      "U.S PROPN compound\n",
      "characters NOUN pobj\n",
      ". PUNCT punct\n"
     ]
    }
   ],
   "source": [
    "# token, parts of speech and syntaxic dependency\n",
    "\n",
    "for i in doc:\n",
    "    print(i.text, i.pos_, i.dep_)"
   ]
  },
  {
   "cell_type": "code",
   "execution_count": 12,
   "metadata": {},
   "outputs": [
    {
     "data": {
      "text/plain": [
       "[('tok2vec', <spacy.pipeline.tok2vec.Tok2Vec at 0x2532d279e00>),\n",
       " ('tagger', <spacy.pipeline.tagger.Tagger at 0x25344462630>),\n",
       " ('parser', <spacy.pipeline.dep_parser.DependencyParser at 0x25346498ee0>),\n",
       " ('ner', <spacy.pipeline.ner.EntityRecognizer at 0x253443f02e0>),\n",
       " ('attribute_ruler',\n",
       "  <spacy.pipeline.attributeruler.AttributeRuler at 0x2534754ba00>),\n",
       " ('lemmatizer', <spacy.lang.en.lemmatizer.EnglishLemmatizer at 0x25347552980>)]"
      ]
     },
     "execution_count": 12,
     "metadata": {},
     "output_type": "execute_result"
    }
   ],
   "source": [
    "nlp.pipeline"
   ]
  },
  {
   "cell_type": "code",
   "execution_count": 13,
   "metadata": {},
   "outputs": [
    {
     "data": {
      "text/plain": [
       "['tok2vec', 'tagger', 'parser', 'ner', 'attribute_ruler', 'lemmatizer']"
      ]
     },
     "execution_count": 13,
     "metadata": {},
     "output_type": "execute_result"
    }
   ],
   "source": [
    "nlp.pipe_names"
   ]
  },
  {
   "cell_type": "raw",
   "metadata": {},
   "source": [
    "Tag\t     Description\t                                                         \n",
    ".text\t    The original word text\t                                             \n",
    ".lemma_\t    The base form of the word\t                                         \n",
    ".pos_\t    The simple part-of-speech tag\t(PROPN/proper noun)\n",
    ".tag_\t    The detailed part-of-speech tag\tNNP/noun, proper (singular)\n",
    ".shape_\t    The word shape – capitalization, punctuation, digits\t\n",
    ".is_alpha\tIs the token an alpha character?\t\n",
    ".is_stop\tIs the token part of a stop list, i.e. the most common words of the language?\t"
   ]
  },
  {
   "cell_type": "code",
   "execution_count": 14,
   "metadata": {},
   "outputs": [],
   "source": [
    "doc2 = nlp(u'this is sentence1. this is sentence2. this is sentence3.')"
   ]
  },
  {
   "cell_type": "code",
   "execution_count": 15,
   "metadata": {},
   "outputs": [
    {
     "data": {
      "text/plain": [
       "<generator at 0x2534c170040>"
      ]
     },
     "execution_count": 15,
     "metadata": {},
     "output_type": "execute_result"
    }
   ],
   "source": [
    "doc2.sents"
   ]
  },
  {
   "cell_type": "code",
   "execution_count": 16,
   "metadata": {},
   "outputs": [
    {
     "name": "stdout",
     "output_type": "stream",
     "text": [
      "this is sentence1.\n",
      "this is sentence2.\n",
      "this is sentence3.\n"
     ]
    }
   ],
   "source": [
    "for i in doc2.sents:\n",
    "    print(i)"
   ]
  },
  {
   "cell_type": "code",
   "execution_count": 17,
   "metadata": {},
   "outputs": [
    {
     "data": {
      "text/plain": [
       "this"
      ]
     },
     "execution_count": 17,
     "metadata": {},
     "output_type": "execute_result"
    }
   ],
   "source": [
    "doc2[4]"
   ]
  },
  {
   "cell_type": "code",
   "execution_count": 18,
   "metadata": {},
   "outputs": [
    {
     "data": {
      "text/plain": [
       "True"
      ]
     },
     "execution_count": 18,
     "metadata": {},
     "output_type": "execute_result"
    }
   ],
   "source": [
    "doc2[4].is_sent_start"
   ]
  },
  {
   "cell_type": "code",
   "execution_count": 19,
   "metadata": {},
   "outputs": [
    {
     "data": {
      "text/plain": [
       "False"
      ]
     },
     "execution_count": 19,
     "metadata": {},
     "output_type": "execute_result"
    }
   ],
   "source": [
    "doc2[5].is_sent_start"
   ]
  },
  {
   "cell_type": "code",
   "execution_count": null,
   "metadata": {},
   "outputs": [],
   "source": []
  }
 ],
 "metadata": {
  "kernelspec": {
   "display_name": "Python 3",
   "language": "python",
   "name": "python3"
  },
  "language_info": {
   "codemirror_mode": {
    "name": "ipython",
    "version": 3
   },
   "file_extension": ".py",
   "mimetype": "text/x-python",
   "name": "python",
   "nbconvert_exporter": "python",
   "pygments_lexer": "ipython3",
   "version": "3.8.5"
  }
 },
 "nbformat": 4,
 "nbformat_minor": 4
}
